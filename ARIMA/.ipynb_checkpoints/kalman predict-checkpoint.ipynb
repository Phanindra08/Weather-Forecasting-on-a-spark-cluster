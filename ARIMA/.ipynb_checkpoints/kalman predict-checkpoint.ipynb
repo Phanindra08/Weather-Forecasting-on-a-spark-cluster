{
 "cells": [
  {
   "cell_type": "code",
   "execution_count": 2,
   "metadata": {},
   "outputs": [],
   "source": [
    "from numpy import dot \n",
    "def kf_predict(X, P, A, Q, B, U): \n",
    "    X = dot(A, X) + dot(B, U) \n",
    "    P = dot(A, dot(P, A.T)) + Q \n",
    "    return(X,P) "
   ]
  },
  {
   "cell_type": "code",
   "execution_count": 32,
   "metadata": {},
   "outputs": [],
   "source": [
    "from numpy import dot, sum, tile, linalg \n",
    "from numpy.linalg import inv \n",
    "from numpy.linalg import det"
   ]
  },
  {
   "cell_type": "code",
   "execution_count": 33,
   "metadata": {},
   "outputs": [],
   "source": [
    "def kf_update(X, P, Y, H, R): \n",
    "    IM = dot(H, X) \n",
    "    IS = R + dot(H, dot(P, H.T)) \n",
    "    K = dot(P, dot(H.T, inv(IS))) \n",
    "    X = X + dot(K, (Y-IM)) \n",
    "    P = P - dot(K, dot(IS, K.T)) \n",
    "    LH = gauss_pdf(Y, IM, IS) \n",
    "    return (X,P,K,IM,IS,LH) "
   ]
  },
  {
   "cell_type": "code",
   "execution_count": 34,
   "metadata": {},
   "outputs": [],
   "source": [
    "def gauss_pdf(X, M, S): \n",
    "    if M.shape[1] == 1: \n",
    "        DX = X - tile(M, X.shape[1])   \n",
    "        E = 0.5 * sum(DX * (dot(inv(S), DX)), axis=0) \n",
    "        E = E + 0.5 * M.shape[0] * log(2 * pi) + 0.5 * log(det(S)) \n",
    "        P = exp(-E) \n",
    "    elif X.shape[1] == 1: \n",
    "        DX = tile(X, M.shape[1])- M   \n",
    "        E = 0.5 * sum(DX * (dot(inv(S), DX)), axis=0) \n",
    "        E = E + 0.5 * M.shape[0] * log(2 * pi) + 0.5 * log(det(S)) \n",
    "        P = exp(-E) \n",
    "    else: \n",
    "        DX = X-M   \n",
    "        E = 0.5 * dot(DX.T, dot(inv(S), DX)) \n",
    "        E = E + 0.5 * M.shape[0] * log(2 * pi) + 0.5 * log(det(S)) \n",
    "        P = exp(-E) \n",
    "    return (P[0],E[0]) "
   ]
  },
  {
   "cell_type": "code",
   "execution_count": 58,
   "metadata": {},
   "outputs": [
    {
     "name": "stdout",
     "output_type": "stream",
     "text": [
      "[[0. ]\n",
      " [0. ]\n",
      " [0.1]\n",
      " [0.1]]\n",
      "[[4.65273443]\n",
      " [3.44498947]\n",
      " [0.74519125]\n",
      " [0.6620852 ]]\n"
     ]
    }
   ],
   "source": [
    "from numpy import * \n",
    "from numpy.linalg import inv \n",
    "from numpy.random import randn\n",
    "#time step of mobile movement \n",
    "dt = 0.1 \n",
    "# Initialization of state matrices \n",
    "X = numpy.array([[0.0], [0.0], [0.1], [0.1]])\n",
    "print(X)\n",
    "P = diag((0.01, 0.01, 0.01, 0.01))\n",
    "A = array([[1, 0, dt , 0], [0, 1, 0, dt], [0, 0, 1, 0], [0, 0, 0, 1]])\n",
    "Q = eye(X.shape[0])\n",
    "B = eye(X.shape[0])\n",
    "U = zeros((X.shape[0],1)) \n",
    "# Measurement matrices \n",
    "Y = array([[X[0,0] + abs(randn(1)[0])], [X[1,0] +  abs(randn(1)[0])]])\n",
    "H = array([[1, 0, 0, 0], [0, 1, 0, 0]]) \n",
    "R = eye(Y.shape[0]) \n",
    "# Number of iterations in Kalman Filter \n",
    "N_iter = 50 \n",
    "# Applying the Kalman Filter \n",
    "for i in arange(0, N_iter): \n",
    "    (X, P) = kf_predict(X, P, A, Q, B, U)\n",
    "    (X, P, K, IM, IS, LH) = kf_update(X, P, Y, H, R)   \n",
    "    Y = array([[X[0,0] + abs(0.1 * randn(1)[0])],[X[1, 0] +  abs(0.1 * randn(1)[0])]])\n",
    "print(X)"
   ]
  },
  {
   "cell_type": "code",
   "execution_count": 44,
   "metadata": {},
   "outputs": [],
   "source": [
    "import pandas as pd"
   ]
  },
  {
   "cell_type": "code",
   "execution_count": 46,
   "metadata": {},
   "outputs": [
    {
     "data": {
      "text/html": [
       "<div>\n",
       "<style scoped>\n",
       "    .dataframe tbody tr th:only-of-type {\n",
       "        vertical-align: middle;\n",
       "    }\n",
       "\n",
       "    .dataframe tbody tr th {\n",
       "        vertical-align: top;\n",
       "    }\n",
       "\n",
       "    .dataframe thead th {\n",
       "        text-align: right;\n",
       "    }\n",
       "</style>\n",
       "<table border=\"1\" class=\"dataframe\">\n",
       "  <thead>\n",
       "    <tr style=\"text-align: right;\">\n",
       "      <th></th>\n",
       "      <th>date</th>\n",
       "      <th>hum</th>\n",
       "      <th>tempm</th>\n",
       "      <th>dewptm</th>\n",
       "    </tr>\n",
       "  </thead>\n",
       "  <tbody>\n",
       "    <tr>\n",
       "      <th>0</th>\n",
       "      <td>1996-11-01</td>\n",
       "      <td>53.0</td>\n",
       "      <td>22.0</td>\n",
       "      <td>12.0</td>\n",
       "    </tr>\n",
       "    <tr>\n",
       "      <th>1</th>\n",
       "      <td>1996-11-02</td>\n",
       "      <td>49.0</td>\n",
       "      <td>23.0</td>\n",
       "      <td>10.0</td>\n",
       "    </tr>\n",
       "    <tr>\n",
       "      <th>2</th>\n",
       "      <td>1996-11-03</td>\n",
       "      <td>56.0</td>\n",
       "      <td>22.0</td>\n",
       "      <td>12.0</td>\n",
       "    </tr>\n",
       "    <tr>\n",
       "      <th>3</th>\n",
       "      <td>1996-11-04</td>\n",
       "      <td>48.0</td>\n",
       "      <td>23.0</td>\n",
       "      <td>10.0</td>\n",
       "    </tr>\n",
       "    <tr>\n",
       "      <th>4</th>\n",
       "      <td>1996-11-05</td>\n",
       "      <td>29.0</td>\n",
       "      <td>28.0</td>\n",
       "      <td>8.0</td>\n",
       "    </tr>\n",
       "  </tbody>\n",
       "</table>\n",
       "</div>"
      ],
      "text/plain": [
       "         date   hum  tempm  dewptm\n",
       "0  1996-11-01  53.0   22.0    12.0\n",
       "1  1996-11-02  49.0   23.0    10.0\n",
       "2  1996-11-03  56.0   22.0    12.0\n",
       "3  1996-11-04  48.0   23.0    10.0\n",
       "4  1996-11-05  29.0   28.0     8.0"
      ]
     },
     "execution_count": 46,
     "metadata": {},
     "output_type": "execute_result"
    }
   ],
   "source": [
    "data=pd.read_csv(\"required.csv\")\n",
    "data.head()"
   ]
  },
  {
   "cell_type": "code",
   "execution_count": 61,
   "metadata": {},
   "outputs": [
    {
     "name": "stdout",
     "output_type": "stream",
     "text": [
      "[array(53.), array(49.), array(56.), array(48.), array(29.), array(48.), array(48.), array(46.), array(47.), array(44.), array(38.), array(39.), array(52.), array(46.), array(53.), array(41.), array(41.), array(39.), array(46.), array(61.), array(60.), array(56.), array(53.), array(52.), array(47.), array(47.), array(55.), array(46.), array(51.), array(49.), array(54.), array(49.), array(59.), array(56.), array(56.), array(53.), array(49.), array(43.), array(42.), array(44.), array(49.), array(50.), array(53.), array(54.), array(51.), array(44.), array(56.), array(58.), array(62.), array(82.)]\n"
     ]
    }
   ],
   "source": [
    "data_hum=[]\n",
    "for i in range(50):\n",
    "    data_hum.append(numpy.array(data.values[i,1]))\n",
    "print(data_hum)\n",
    "data_hum=numpy.array(data_hum)"
   ]
  },
  {
   "cell_type": "code",
   "execution_count": 62,
   "metadata": {},
   "outputs": [
    {
     "ename": "IndexError",
     "evalue": "too many indices for array",
     "output_type": "error",
     "traceback": [
      "\u001b[0;31m---------------------------------------------------------------------------\u001b[0m",
      "\u001b[0;31mIndexError\u001b[0m                                Traceback (most recent call last)",
      "\u001b[0;32m<ipython-input-62-a91110b1dce8>\u001b[0m in \u001b[0;36m<module>\u001b[0;34m()\u001b[0m\n\u001b[1;32m     12\u001b[0m \u001b[0mU\u001b[0m \u001b[0;34m=\u001b[0m \u001b[0mzeros\u001b[0m\u001b[0;34m(\u001b[0m\u001b[0;34m(\u001b[0m\u001b[0mX\u001b[0m\u001b[0;34m.\u001b[0m\u001b[0mshape\u001b[0m\u001b[0;34m[\u001b[0m\u001b[0;36m0\u001b[0m\u001b[0;34m]\u001b[0m\u001b[0;34m,\u001b[0m\u001b[0;36m1\u001b[0m\u001b[0;34m)\u001b[0m\u001b[0;34m)\u001b[0m\u001b[0;34m\u001b[0m\u001b[0m\n\u001b[1;32m     13\u001b[0m \u001b[0;31m# Measurement matrices\u001b[0m\u001b[0;34m\u001b[0m\u001b[0;34m\u001b[0m\u001b[0m\n\u001b[0;32m---> 14\u001b[0;31m \u001b[0mY\u001b[0m \u001b[0;34m=\u001b[0m \u001b[0marray\u001b[0m\u001b[0;34m(\u001b[0m\u001b[0;34m[\u001b[0m\u001b[0;34m[\u001b[0m\u001b[0mX\u001b[0m\u001b[0;34m[\u001b[0m\u001b[0;36m0\u001b[0m\u001b[0;34m,\u001b[0m\u001b[0;36m0\u001b[0m\u001b[0;34m]\u001b[0m \u001b[0;34m+\u001b[0m \u001b[0mabs\u001b[0m\u001b[0;34m(\u001b[0m\u001b[0mrandn\u001b[0m\u001b[0;34m(\u001b[0m\u001b[0;36m1\u001b[0m\u001b[0;34m)\u001b[0m\u001b[0;34m[\u001b[0m\u001b[0;36m0\u001b[0m\u001b[0;34m]\u001b[0m\u001b[0;34m)\u001b[0m\u001b[0;34m]\u001b[0m\u001b[0;34m,\u001b[0m \u001b[0;34m[\u001b[0m\u001b[0mX\u001b[0m\u001b[0;34m[\u001b[0m\u001b[0;36m1\u001b[0m\u001b[0;34m,\u001b[0m\u001b[0;36m0\u001b[0m\u001b[0;34m]\u001b[0m \u001b[0;34m+\u001b[0m  \u001b[0mabs\u001b[0m\u001b[0;34m(\u001b[0m\u001b[0mrandn\u001b[0m\u001b[0;34m(\u001b[0m\u001b[0;36m1\u001b[0m\u001b[0;34m)\u001b[0m\u001b[0;34m[\u001b[0m\u001b[0;36m0\u001b[0m\u001b[0;34m]\u001b[0m\u001b[0;34m)\u001b[0m\u001b[0;34m]\u001b[0m\u001b[0;34m]\u001b[0m\u001b[0;34m)\u001b[0m\u001b[0;34m\u001b[0m\u001b[0m\n\u001b[0m\u001b[1;32m     15\u001b[0m \u001b[0mH\u001b[0m \u001b[0;34m=\u001b[0m \u001b[0marray\u001b[0m\u001b[0;34m(\u001b[0m\u001b[0;34m[\u001b[0m\u001b[0;34m[\u001b[0m\u001b[0;36m1\u001b[0m\u001b[0;34m,\u001b[0m \u001b[0;36m0\u001b[0m\u001b[0;34m,\u001b[0m \u001b[0;36m0\u001b[0m\u001b[0;34m,\u001b[0m \u001b[0;36m0\u001b[0m\u001b[0;34m]\u001b[0m\u001b[0;34m,\u001b[0m \u001b[0;34m[\u001b[0m\u001b[0;36m0\u001b[0m\u001b[0;34m,\u001b[0m \u001b[0;36m1\u001b[0m\u001b[0;34m,\u001b[0m \u001b[0;36m0\u001b[0m\u001b[0;34m,\u001b[0m \u001b[0;36m0\u001b[0m\u001b[0;34m]\u001b[0m\u001b[0;34m]\u001b[0m\u001b[0;34m)\u001b[0m\u001b[0;34m\u001b[0m\u001b[0m\n\u001b[1;32m     16\u001b[0m \u001b[0mR\u001b[0m \u001b[0;34m=\u001b[0m \u001b[0meye\u001b[0m\u001b[0;34m(\u001b[0m\u001b[0mY\u001b[0m\u001b[0;34m.\u001b[0m\u001b[0mshape\u001b[0m\u001b[0;34m[\u001b[0m\u001b[0;36m0\u001b[0m\u001b[0;34m]\u001b[0m\u001b[0;34m)\u001b[0m\u001b[0;34m\u001b[0m\u001b[0m\n",
      "\u001b[0;31mIndexError\u001b[0m: too many indices for array"
     ]
    }
   ],
   "source": [
    "from numpy import * \n",
    "from numpy.linalg import inv \n",
    "from numpy.random import randn\n",
    "#time step of mobile movement \n",
    "dt = 0.1 \n",
    "# Initialization of state matrices \n",
    "X = data_hum\n",
    "P = diag((0.01, 0.01, 0.01, 0.01))\n",
    "A = array([[1, 0, dt , 0], [0, 1, 0, dt], [0, 0, 1, 0], [0, 0, 0, 1]])\n",
    "Q = eye(X.shape[0])\n",
    "B = eye(X.shape[0])\n",
    "U = zeros((X.shape[0],1)) \n",
    "# Measurement matrices \n",
    "Y = array([[X[0,0] + abs(randn(1)[0])], [X[1,0] +  abs(randn(1)[0])]])\n",
    "H = array([[1, 0, 0, 0], [0, 1, 0, 0]]) \n",
    "R = eye(Y.shape[0]) \n",
    "# Number of iterations in Kalman Filter \n",
    "N_iter = 50 \n",
    "# Applying the Kalman Filter \n",
    "for i in arange(0, N_iter): \n",
    "    (X, P) = kf_predict(X, P, A, Q, B, U)\n",
    "    (X, P, K, IM, IS, LH) = kf_update(X, P, Y, H, R)   \n",
    "    Y = array([[X[0,0] + abs(0.1 * randn(1)[0])],[X[1, 0] +  abs(0.1 * randn(1)[0])]])\n",
    "print(X)"
   ]
  },
  {
   "cell_type": "code",
   "execution_count": null,
   "metadata": {},
   "outputs": [],
   "source": []
  }
 ],
 "metadata": {
  "kernelspec": {
   "display_name": "Python 2",
   "language": "python",
   "name": "python2"
  },
  "language_info": {
   "codemirror_mode": {
    "name": "ipython",
    "version": 2
   },
   "file_extension": ".py",
   "mimetype": "text/x-python",
   "name": "python",
   "nbconvert_exporter": "python",
   "pygments_lexer": "ipython2",
   "version": "2.7.13"
  }
 },
 "nbformat": 4,
 "nbformat_minor": 2
}
